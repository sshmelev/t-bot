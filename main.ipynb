{
 "cells": [
  {
   "cell_type": "code",
   "execution_count": 1,
   "metadata": {},
   "outputs": [],
   "source": [
    "import telebot\n",
    "bot = telebot.TeleBot(<API-KEY>, parse_mode='MARKDOWN')"
   ]
  },
  {
   "cell_type": "code",
   "execution_count": 2,
   "metadata": {},
   "outputs": [],
   "source": [
    "import account_manager"
   ]
  },
  {
   "cell_type": "code",
   "execution_count": 3,
   "metadata": {},
   "outputs": [],
   "source": [
    "import message_analyzer"
   ]
  },
  {
   "cell_type": "code",
   "execution_count": 4,
   "metadata": {},
   "outputs": [],
   "source": [
    "@bot.message_handler(commands=['start'])\n",
    "def check_user_account(message):\n",
    "    bot.send_message(message.from_user.id, message.from_user.first_name + ', '+ account_manager.Account(message.from_user.id).check())"
   ]
  },
  {
   "cell_type": "code",
   "execution_count": 5,
   "metadata": {},
   "outputs": [],
   "source": [
    "@bot.message_handler(content_types=['text'])\n",
    "def just_do_it(message):\n",
    "    analyzed = message_analyzer.Analyzer().message_analyzer(message.text.lower())\n",
    "    output_message = '\\n'.join(analyzed[0])\n",
    "    try: # может придти ValueError\n",
    "        output_data = analyzed[1][0] \n",
    "    except:\n",
    "        output_data= []\n",
    "    output_code = analyzed[2]\n",
    "    if 'add' in output_code:\n",
    "        bot.send_message(message.from_user.id, output_message + '\\n\\n' + account_manager.Account(message.from_user.id).add_expense(output_data))\n",
    "    elif len(set(output_code) & set(['get_all', 'get_date', 'get_category'])) > 0:\n",
    "        bot.send_message(message.from_user.id, output_message + '\\n\\n' + account_manager.Account(message.from_user.id).get_expense(output_code))\n",
    "    elif 'get_account' in output_code:\n",
    "        bot.send_message(message.from_user.id, output_message + '\\n\\n' + account_manager.Account(message.from_user.id).get_all_expense(output_code))\n",
    "    else:\n",
    "        bot.send_message(message.from_user.id, output_message)    "
   ]
  },
  {
   "cell_type": "code",
   "execution_count": null,
   "metadata": {},
   "outputs": [],
   "source": [
    "bot.polling(none_stop=True, interval=0)"
   ]
  },
  {
   "cell_type": "code",
   "execution_count": null,
   "metadata": {},
   "outputs": [],
   "source": []
  }
 ],
 "metadata": {
  "kernelspec": {
   "display_name": "Python 3",
   "language": "python",
   "name": "python3"
  },
  "language_info": {
   "codemirror_mode": {
    "name": "ipython",
    "version": 3
   },
   "file_extension": ".py",
   "mimetype": "text/x-python",
   "name": "python",
   "nbconvert_exporter": "python",
   "pygments_lexer": "ipython3",
   "version": "3.7.5"
  }
 },
 "nbformat": 4,
 "nbformat_minor": 4
}
