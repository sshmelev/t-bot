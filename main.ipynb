{
 "cells": [
  {
   "cell_type": "code",
   "execution_count": 1,
   "metadata": {},
   "outputs": [],
   "source": [
    "import telebot\n",
    "bot = telebot.TeleBot('1309448728:AAGXlgsv1cXqbPMTVNL-yq5UnhbbJgoUqqM', parse_mode='MARKDOWN')\n",
    "\n",
    "from telebot import types"
   ]
  },
  {
   "cell_type": "code",
   "execution_count": 2,
   "metadata": {},
   "outputs": [],
   "source": [
    "import re"
   ]
  },
  {
   "cell_type": "code",
   "execution_count": 3,
   "metadata": {},
   "outputs": [],
   "source": [
    "import account_manager"
   ]
  },
  {
   "cell_type": "code",
   "execution_count": 4,
   "metadata": {},
   "outputs": [],
   "source": [
    "import message_analyzer"
   ]
  },
  {
   "cell_type": "code",
   "execution_count": 5,
   "metadata": {},
   "outputs": [],
   "source": [
    "@bot.message_handler(commands=['start'])\n",
    "def check_user_account(message):\n",
    "    bot.send_message(message.from_user.id, message.from_user.first_name + ', '+ account_manager.Account(message.from_user.id).check())"
   ]
  },
  {
   "cell_type": "code",
   "execution_count": 6,
   "metadata": {},
   "outputs": [],
   "source": [
    "@bot.message_handler(content_types=['text'])    \n",
    "def dialog(message):\n",
    "    \n",
    "    # создание и отправка кравиатуры с наиболее частыми запросами на показ данных\n",
    "    keyboard = types.ReplyKeyboardMarkup(row_width=1, resize_keyboard = True)\n",
    "    itembtn1 = types.KeyboardButton('Показать все')\n",
    "    itembtn2 = types.KeyboardButton('Показать по категории')\n",
    "    itembtn3 = types.KeyboardButton('Показать по дате')\n",
    "    itembtn4 = types.KeyboardButton('Показать по аккаунтам')\n",
    "    itembtn5 = types.KeyboardButton('Показать по категории и дате')\n",
    "    itembtn6 = types.KeyboardButton('Показать по аккаунтам и категории')\n",
    "    itembtn7 = types.KeyboardButton('Показать по аккаунтам и категории вместе')\n",
    "    keyboard.add(itembtn1, itembtn2, itembtn3, itembtn4, itembtn5, itembtn6, itembtn7)\n",
    "    bot.send_message(message.from_user.id, '---------------------------', reply_markup=keyboard)\n",
    "    \n",
    "    analyzed = message_analyzer.Analyzer().message_analyzer(message.text.lower())\n",
    "    output_message = '\\n'.join(analyzed[0])\n",
    "    try: # может придти ValueError\n",
    "        output_data = analyzed[1][0] \n",
    "    except:\n",
    "        output_data= []\n",
    "    output_code = analyzed[2]\n",
    "    if 'add' in output_code:\n",
    "        bot.send_message(message.from_user.id, output_message + '\\n\\n' + account_manager.Account(message.from_user.id).add_expense(output_data))\n",
    "    # иначе, если есть запросы на получение данных    \n",
    "    elif len(re.findall(r'get_', str(output_code))) > 0:\n",
    "        bot.send_message(message.from_user.id, str(output_code) + '\\n\\n' + output_message + '\\n\\n' + account_manager.Account(message.from_user.id).get_expense(output_code))        \n",
    "    else:\n",
    "        bot.send_message(message.from_user.id, output_message)   "
   ]
  },
  {
   "cell_type": "code",
   "execution_count": null,
   "metadata": {},
   "outputs": [],
   "source": [
    "bot.polling(none_stop=True, interval=0)"
   ]
  },
  {
   "cell_type": "code",
   "execution_count": null,
   "metadata": {},
   "outputs": [],
   "source": []
  }
 ],
 "metadata": {
  "kernelspec": {
   "display_name": "Python 3",
   "language": "python",
   "name": "python3"
  },
  "language_info": {
   "codemirror_mode": {
    "name": "ipython",
    "version": 3
   },
   "file_extension": ".py",
   "mimetype": "text/x-python",
   "name": "python",
   "nbconvert_exporter": "python",
   "pygments_lexer": "ipython3",
   "version": "3.7.5"
  }
 },
 "nbformat": 4,
 "nbformat_minor": 4
}
