{
 "cells": [
  {
   "cell_type": "code",
   "execution_count": 1,
   "metadata": {},
   "outputs": [],
   "source": [
    "import telebot\n",
    "bot = telebot.TeleBot('1309448728:AAGXlgsv1cXqbPMTVNL-yq5UnhbbJgoUqqM', parse_mode='MARKDOWN')\n",
    "\n",
    "from telebot import types"
   ]
  },
  {
   "cell_type": "code",
   "execution_count": 2,
   "metadata": {},
   "outputs": [],
   "source": [
    "import re\n",
    "from datetime import datetime"
   ]
  },
  {
   "cell_type": "code",
   "execution_count": 3,
   "metadata": {},
   "outputs": [],
   "source": [
    "import account_manager\n",
    "import message_analyzer"
   ]
  },
  {
   "cell_type": "code",
   "execution_count": 5,
   "metadata": {},
   "outputs": [],
   "source": [
    "import logging\n",
    "logging.basicConfig(level=logging.INFO)"
   ]
  },
  {
   "cell_type": "code",
   "execution_count": 6,
   "metadata": {},
   "outputs": [],
   "source": [
    "@bot.message_handler(commands=['start'])\n",
    "def check_user_account(message):\n",
    "    bot.send_message(message.from_user.id, message.from_user.first_name + ', '+ account_manager.Account(message.from_user.id).check())"
   ]
  },
  {
   "cell_type": "code",
   "execution_count": 7,
   "metadata": {},
   "outputs": [],
   "source": [
    "@bot.message_handler(content_types=['text'])    \n",
    "def main(message):\n",
    "\n",
    "    # создание и отправка кравиатуры с наиболее частыми запросами на показ данных\n",
    "    keyboard = types.ReplyKeyboardMarkup(row_width=1, resize_keyboard = True)\n",
    "    itembtn1 = types.KeyboardButton('Показать все')\n",
    "    itembtn2 = types.KeyboardButton('Показать по категории')\n",
    "    itembtn3 = types.KeyboardButton('Показать по дате')\n",
    "    itembtn4 = types.KeyboardButton('Показать по аккаунтам')\n",
    "    itembtn5 = types.KeyboardButton('Показать по категории и дате')\n",
    "    itembtn6 = types.KeyboardButton('Показать по аккаунтам и категории')\n",
    "    itembtn7 = types.KeyboardButton('Показать по аккаунтам и категории вместе')\n",
    "    keyboard.add(itembtn1, itembtn2, itembtn3, itembtn4, itembtn5, itembtn6, itembtn7)\n",
    "    \n",
    "    analyzed = message_analyzer.Analyzer().message_analyzer(message.text.lower())\n",
    "    output_message = '\\n'.join(analyzed[0])\n",
    "    try: # может придти ValueError\n",
    "        output_data = analyzed[1][0] \n",
    "    except:\n",
    "        output_data= []\n",
    "    output_code = analyzed[2]\n",
    "\n",
    "    # если есть запрос на добавление, то добавляем\n",
    "    if 'add' in output_code:\n",
    "        logging.info('\\n > now: ' + str(datetime.now()) + '\\n > user: ' + str(message.from_user.id) + '\\n > add: ' + str(output_data) + '\\n > message: ' + message.text.lower() + '\\n')\n",
    "        bot.send_message(message.from_user.id, output_message + '\\n\\n' + account_manager.Account(message.from_user.id).add_expense(output_data), reply_markup = keyboard)\n",
    "    # иначе, если есть запросы на получение данных выдаем результат и клавиатуру с запросами\n",
    "    elif len(re.findall(r'get_', str(output_code))) > 0:\n",
    "        logging.info('\\n > now: ' + str(datetime.now()) + '\\n > user: ' + str(message.from_user.id) + '\\n > get: ' + str(output_code) + '\\n > message: ' + message.text.lower() + '\\n')\n",
    "        bot.send_message(message.from_user.id, account_manager.Account(message.from_user.id).get_expense(output_code), reply_markup = keyboard)    \n",
    "    # удаление последней добавленной записи    \n",
    "    elif 'cancel' in output_code:\n",
    "        logging.info('\\n > now: ' + str(datetime.now()) + '\\n > user: ' + str(message.from_user.id) + '\\n > cancel: ' + str(output_code) + '\\n > message: ' + message.text.lower() + '\\n')\n",
    "        bot.send_message(message.from_user.id, account_manager.Account(message.from_user.id).cancel_expense(), reply_markup = keyboard)         \n",
    "    # очистка базы\n",
    "    elif 'clear' in output_code:\n",
    "        logging.info('\\n > now: ' + str(datetime.now()) + '\\n > user: ' + str(message.from_user.id) + '\\n > clear: ' + str(output_code) + '\\n > message: ' + message.text.lower() + '\\n')\n",
    "        bot.send_message(message.from_user.id, account_manager.Account(message.from_user.id).clear_expense(), reply_markup = keyboard)\n",
    "    # создание или удаление связи аккаунтов\n",
    "    elif len(re.findall(r'_link', str(output_code))) > 0:\n",
    "        logging.info('\\n > now: ' + str(datetime.now()) + '\\n > user: ' + str(message.from_user.id) + '\\n > link: ' + str(output_code) + '\\n > message: ' + message.text.lower() + '\\n')\n",
    "        bot.send_message(message.from_user.id, account_manager.Account(message.from_user.id).account_link(output_data, output_code), reply_markup = keyboard)  \n",
    "    else:\n",
    "        logging.info('\\n > now: ' + str(datetime.now()) + '\\n > user: ' + str(message.from_user.id) + '\\n > other: ' + str(output_code) + '\\n > message: ' + message.text.lower() + '\\n')\n",
    "        bot.send_message(message.from_user.id, output_message, reply_markup = keyboard) "
   ]
  },
  {
   "cell_type": "code",
   "execution_count": null,
   "metadata": {},
   "outputs": [],
   "source": [
    "bot.polling(none_stop=True, interval=0)"
   ]
  },
  {
   "cell_type": "code",
   "execution_count": 9,
   "metadata": {},
   "outputs": [
    {
     "name": "stdout",
     "output_type": "stream",
     "text": [
      "`           Расходы\n",
      "Аккаунт           \n",
      "260196803     1010`\n"
     ]
    }
   ],
   "source": [
    "print(account_manager.Account('260196803').get_expense(['get_linked']))\n",
    "#print(account_manager.Account('260196803').get_expense(['get_linked', 'get_category']))"
   ]
  },
  {
   "cell_type": "code",
   "execution_count": null,
   "metadata": {},
   "outputs": [],
   "source": []
  }
 ],
 "metadata": {
  "kernelspec": {
   "display_name": "Python 3",
   "language": "python",
   "name": "python3"
  },
  "language_info": {
   "codemirror_mode": {
    "name": "ipython",
    "version": 3
   },
   "file_extension": ".py",
   "mimetype": "text/x-python",
   "name": "python",
   "nbconvert_exporter": "python",
   "pygments_lexer": "ipython3",
   "version": "3.7.5"
  }
 },
 "nbformat": 4,
 "nbformat_minor": 4
}
