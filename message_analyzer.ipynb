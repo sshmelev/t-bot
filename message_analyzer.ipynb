{
 "cells": [
  {
   "cell_type": "code",
   "execution_count": 1,
   "metadata": {},
   "outputs": [],
   "source": [
    "import re\n",
    "from datetime import datetime\n",
    "import pandas as pd"
   ]
  },
  {
   "cell_type": "code",
   "execution_count": 5,
   "metadata": {},
   "outputs": [],
   "source": [
    "class Analyzer():\n",
    "    \n",
    "    IGNORE_LIST = ['рублей','руб','р']\n",
    "    WELCOME_LIST = ['привет','хай','добрый день','здравствуйте']\n",
    "    GET_LIST = ['получить','показать','затраты', 'посмотреть','вывести']\n",
    "    CLEAR_LIST = ['очистить','удалить','стереть']\n",
    "    CREATE_LINK_LIST = ['связать']\n",
    "    DROP_LINK_LIST = ['отвязать']\n",
    "    CANCEL_LIST = ['отменить','отмена']\n",
    "    \n",
    "    CATEGORY_LIST = {'продукты' : ['пятерочка','лента','перекресток','продукты','еда','корм','пятера','овощебаза','овощи','ягоды'], \n",
    "                     'автомобиль' : ['бензин','т/о','запчасти','автомобиль','бенз'],\n",
    "                     'развлечения' : ['роллы','пиво','рейв','флекс','туса','кафе','бар','игги','томато','дудки','баня','велосипеды','развлечения','кальян','табак','шашлыки','шашлык'],\n",
    "                     'красота' : ['подружка','косметика','красота','косметолог'],\n",
    "                     'дом' : ['ипотека','кварплата','интернет','хозтовары']\n",
    "                    }\n",
    "    \n",
    "    MODIFER_LIST = {'get_date' : ['дате','дату','датам'], \n",
    "                    'get_category' : ['категории', 'группе', 'категориям', 'группам'],\n",
    "                    'get_all' : ['все','всё','полностью'],\n",
    "                    'get_together': ['вместе'],\n",
    "                    'get_linked' : ['связанные','доступные','аккаунтам', 'семейные', 'общие']\n",
    "                   }\n",
    "    \n",
    "    MESSAGES = {'mode_data_recording': 'Запись расходов.',\n",
    "                'mode_command_processing': 'Обработка команды.',\n",
    "                'mode_command_processing_welcome': 'Приветствие.',\n",
    "                'mode_command_processing_get': 'Получение данных.',\n",
    "                'mode_command_processing_clear': 'Удаление данных.',\n",
    "                'identified_categories': 'Выделены категории: ',\n",
    "                'error_several_categories': 'Ошибка: определено несколько категорий.',\n",
    "                'target_category': 'Категория определена: ',\n",
    "                'error_invalid_input_data': 'Ошибка: некорректные входные данные.',\n",
    "                'error_invalid_command': 'Ошибка: некорректная команда.',\n",
    "                'error_category_detector': 'Ошибка: категория не определена.',\n",
    "                'mode_command_processing_cancel': 'Последняя запись отменена.',\n",
    "                'mode_command_processing_create_link': 'Добавлен связанный аккаунт.',\n",
    "                'mode_command_processing_drop_link': 'Удален связанный аккаунт.'\n",
    "               }\n",
    "    \n",
    "    # определяет категорию расходов по ключевому слову\n",
    "    def category_detector(self, input_word):\n",
    "        for category in self.CATEGORY_LIST:\n",
    "            for key_word in self.CATEGORY_LIST[category]:\n",
    "                if key_word == input_word:\n",
    "                    return category\n",
    "        return ValueError\n",
    "    \n",
    "    # определяет категорию расходов по ключевому слову\n",
    "    def modifer_detector(self, input_word):\n",
    "        for modifer in self.MODIFER_LIST:\n",
    "            for key_word in self.MODIFER_LIST[modifer]:\n",
    "                if key_word == input_word:\n",
    "                    return modifer\n",
    "        return ValueError\n",
    "    \n",
    "    '''\n",
    "    Вход: сообщение пользователя\n",
    "    Выходы: сообщение, данные. Если ошибка, то в данных ValueError\n",
    "    '''\n",
    "    def message_analyzer(self, string):\n",
    "        result = []\n",
    "        data = []\n",
    "        date = str(datetime.now().date()) # текущая дата\n",
    "        find_digit = re.findall(r'\\d+', string) # поиск чисел\n",
    "        find_text = re.findall(r'[A-zА-я]+', string) # поиск слов\n",
    "        # если есть и числа и слова и слова не входят в списки ключевых слов управления связью аккаунтов (т.к. там будет id аккаунта)\n",
    "        if len(find_digit)>0 and len(find_text)>0 and len(set(find_text) & (set(self.DROP_LINK_LIST) | set(self.CREATE_LINK_LIST))) == 0:\n",
    "            result.append(self.MESSAGES['mode_data_recording']) # print('Режим 1. Запись расходов.')\n",
    "            category_list = [] # хранилище под найденные категории\n",
    "            expense = find_digit[0] # первое выделенное число (аналируем только его, все остальные идут в описание)\n",
    "            for word in find_text: \n",
    "                word = word.strip().lower()\n",
    "                category = self.category_detector(word) # определяем категорию каждого слова\n",
    "                if category != ValueError: # если категория опредеена, то добавляем в список\n",
    "                    category_list.append(category)\n",
    "            if len(category_list)>0: # если категории удалось выделить\n",
    "                result.append(self.MESSAGES['identified_categories'] + ', '.join(category_list) + '.') # print('Выделены категории: ', category_list)\n",
    "                if len(set(category_list)) != 1: # выдать ошибку если выделено более одной\n",
    "                    result.append(self.MESSAGES['error_several_categories']) # print('Определено несколько категорий.')\n",
    "                    return result, ValueError, 'error'\n",
    "                else: # если выделена одна, то сформировать список для записи в БД\n",
    "                    category = category_list[0] # выделенная категория\n",
    "                    description = ' '.join([word for word in find_text if word not in set(self.IGNORE_LIST)]) # описание - выделенные слова без IGNORE_LIST-слов\n",
    "                    result.append(self.MESSAGES['target_category'] + category_list[0] + '.') # print('Категория определена: ', category_list[0])\n",
    "                    data.append([date, category, expense, description]) # print([expense, category, date, description]) # затраты, категория, дата, описание\n",
    "                    return result, data, 'add'\n",
    "            else:\n",
    "                result.append(self.MESSAGES['error_category_detector'])\n",
    "                return result, ValueError, 'error'\n",
    "        elif len(find_text)>0: # если есть толлько текст\n",
    "            result.append(self.MESSAGES['mode_command_processing']) # print('Режим 2. Обработка команды.')\n",
    "            for word in find_text:\n",
    "                word = word.strip().lower()\n",
    "                if word in self.WELCOME_LIST:\n",
    "                    result.append(self.MESSAGES['mode_command_processing_welcome']) # print('Режим 2.1. Приветствие.')\n",
    "                    return result, data, 'welcome'\n",
    "                elif word in self.GET_LIST:\n",
    "                    result.append(self.MESSAGES['mode_command_processing_get']) # print('Режим 2.2. Получение данных.')\n",
    "                    modifer_list = [] # хранилище под найденные модификаторы\n",
    "                    for word in find_text: \n",
    "                        word = word.strip().lower()\n",
    "                        modifer = self.modifer_detector(word) # определяем модификатор каждого слова\n",
    "                        if modifer != ValueError: # если модификатор опредеен, то добавляем в список\n",
    "                            modifer_list.append(modifer)\n",
    "                    if len(modifer_list) == 0:\n",
    "                        modifer_list.append('get_all')\n",
    "                    get = modifer_list #[0]\n",
    "                    return result, data, get\n",
    "                elif word in self.CLEAR_LIST:\n",
    "                    result.append(self.MESSAGES['mode_command_processing_clear']) # print('Режим 2.3. Удаление данных.')\n",
    "                    return result, data, 'clear'\n",
    "                elif word in self.CANCEL_LIST:\n",
    "                    result.append(self.MESSAGES['mode_command_processing_cancel']) # print('Режим 2.3. Удаление данных.')\n",
    "                    return result, data, 'cancel'\n",
    "                elif word in self.CREATE_LINK_LIST:\n",
    "                    data.append(find_digit[0])\n",
    "                    result.append(self.MESSAGES['mode_command_processing_create_link']) # print('Режим 2.3. Удаление данных.')\n",
    "                    return result, data, 'create_link'\n",
    "                elif word in self.DROP_LINK_LIST:\n",
    "                    data.append(find_digit[0])\n",
    "                    result.append(self.MESSAGES['mode_command_processing_drop_link']) # print('Режим 2.3. Удаление данных.')\n",
    "                    return result, data, 'drop_link'\n",
    "                else:\n",
    "                    result.append(self.MESSAGES['error_invalid_command'])\n",
    "                    return result, ValueError, 'error'\n",
    "        else:       \n",
    "            result.append(self.MESSAGES['error_invalid_input_data'])\n",
    "            return result, ValueError, 'error'"
   ]
  },
  {
   "cell_type": "code",
   "execution_count": 6,
   "metadata": {},
   "outputs": [
    {
     "data": {
      "text/plain": [
       "(['Обработка команды.', 'Получение данных.'], [], ['get_category', 'get_date'])"
      ]
     },
     "execution_count": 6,
     "metadata": {},
     "output_type": "execute_result"
    }
   ],
   "source": [
    "Analyzer().message_analyzer('показать по категории и дате')"
   ]
  },
  {
   "cell_type": "code",
   "execution_count": 18,
   "metadata": {},
   "outputs": [
    {
     "data": {
      "text/plain": [
       "'get_date'"
      ]
     },
     "execution_count": 18,
     "metadata": {},
     "output_type": "execute_result"
    }
   ],
   "source": [
    "Analyzer().modifer_detector('дате')"
   ]
  },
  {
   "cell_type": "code",
   "execution_count": 4,
   "metadata": {},
   "outputs": [
    {
     "data": {
      "text/plain": [
       "['связать', 'с']"
      ]
     },
     "execution_count": 4,
     "metadata": {},
     "output_type": "execute_result"
    }
   ],
   "source": [
    "['связать', 'с']"
   ]
  },
  {
   "cell_type": "code",
   "execution_count": 36,
   "metadata": {},
   "outputs": [],
   "source": [
    "CREATE_LINK_LIST = ['связать']\n",
    "    DROP_LINK_LIST = ['отвязать']"
   ]
  },
  {
   "cell_type": "code",
   "execution_count": 37,
   "metadata": {},
   "outputs": [
    {
     "data": {
      "text/plain": [
       "True"
      ]
     },
     "execution_count": 37,
     "metadata": {},
     "output_type": "execute_result"
    }
   ],
   "source": [
    "len(set(find_digit) & (set(self.DROP_LINK_LIST) | set(self.CREATE_LINK_LIST))) == 0"
   ]
  },
  {
   "cell_type": "code",
   "execution_count": null,
   "metadata": {},
   "outputs": [],
   "source": []
  },
  {
   "cell_type": "code",
   "execution_count": 5,
   "metadata": {},
   "outputs": [
    {
     "data": {
      "text/plain": [
       "\"['get_linked', 'get_category', 'get_date']\""
      ]
     },
     "execution_count": 5,
     "metadata": {},
     "output_type": "execute_result"
    }
   ],
   "source": [
    "str(output_code)"
   ]
  },
  {
   "cell_type": "code",
   "execution_count": 6,
   "metadata": {},
   "outputs": [],
   "source": [
    "find_text = re.findall(r'get_', str(output_code))"
   ]
  },
  {
   "cell_type": "code",
   "execution_count": 7,
   "metadata": {},
   "outputs": [
    {
     "data": {
      "text/plain": [
       "['get_', 'get_', 'get_']"
      ]
     },
     "execution_count": 7,
     "metadata": {},
     "output_type": "execute_result"
    }
   ],
   "source": [
    "find_text"
   ]
  },
  {
   "cell_type": "code",
   "execution_count": 8,
   "metadata": {},
   "outputs": [
    {
     "data": {
      "text/plain": [
       "3"
      ]
     },
     "execution_count": 8,
     "metadata": {},
     "output_type": "execute_result"
    }
   ],
   "source": [
    "len(find_text)"
   ]
  }
 ],
 "metadata": {
  "kernelspec": {
   "display_name": "Python 3",
   "language": "python",
   "name": "python3"
  },
  "language_info": {
   "codemirror_mode": {
    "name": "ipython",
    "version": 3
   },
   "file_extension": ".py",
   "mimetype": "text/x-python",
   "name": "python",
   "nbconvert_exporter": "python",
   "pygments_lexer": "ipython3",
   "version": "3.7.5"
  }
 },
 "nbformat": 4,
 "nbformat_minor": 4
}
