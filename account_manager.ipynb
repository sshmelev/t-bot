{
 "cells": [
  {
   "cell_type": "code",
   "execution_count": 4,
   "metadata": {},
   "outputs": [],
   "source": [
    "import sqlite3\n",
    "import os.path\n",
    "import pandas as pd\n",
    "import re\n",
    "import numpy as np"
   ]
  },
  {
   "cell_type": "code",
   "execution_count": 31,
   "metadata": {},
   "outputs": [],
   "source": [
    "class Account():\n",
    "    \n",
    "    MESSAGES = {'already_exist': 'Ваш аккаунт уже существует.',\n",
    "                'created': 'Ваш аккаунт создан.',\n",
    "                'expense_added': 'Запись добавлена.',\n",
    "                'error_expense_add': 'Ошибка: запись не добавлена.',\n",
    "                'account_link_add': 'Ссылка на аккаунт добавлена.',\n",
    "                'account_link_delete': 'Ссылка на аккаунт удалена.',\n",
    "                'account_link_error': 'Ошибка: действие не выполнено.',\n",
    "                'cancel_complete': 'Последняя запись отменена.',\n",
    "                'cancel_error': 'ОШибка: последняя запись не отменена.'\n",
    "               }\n",
    "    \n",
    "    MODIFER_FIELDS = {'get_date' : ['Дата'], \n",
    "                      'get_category' : ['Категория'],\n",
    "                      'get_linked' : ['Аккаунт'],\n",
    "                      'get_together': ['Вместе'],\n",
    "                      'get_all' : ['Все']\n",
    "                     }\n",
    "    \n",
    "    def __init__(self, user_id):\n",
    "        self.user_id = user_id\n",
    "        \n",
    "    def check(self):\n",
    "        if os.path.exists('.\\data\\{}.db'.format(self.user_id)):\n",
    "            return self.MESSAGES['already_exist']\n",
    "        else:\n",
    "            conn = sqlite3.connect('.\\data\\{}.db'.format(self.user_id))\n",
    "            c = conn.cursor()\n",
    "            c.execute('''CREATE TABLE finance (       \n",
    "                            id INTEGER PRIMARY KEY AUTOINCREMENT NOT NULL,\n",
    "                            date     DATETIME,\n",
    "                            category VARCHAR (100),\n",
    "                            expenses INTEGER,\n",
    "                            description     VARCHAR (100)\n",
    "                        );''')\n",
    "            c.execute('''CREATE TABLE config (\n",
    "                            parameter VARCHAR (100),\n",
    "                            value     VARCHAR (100) \n",
    "                        );''')\n",
    "            conn.commit()\n",
    "            conn.close()        \n",
    "            return self.MESSAGES['created']\n",
    "        \n",
    "    def add_expense(self, data):\n",
    "        try:\n",
    "            conn = sqlite3.connect('.\\data\\{}.db'.format(self.user_id))\n",
    "            c = conn.cursor()\n",
    "            c.execute('''INSERT INTO finance (\n",
    "                                date,\n",
    "                                category,\n",
    "                                expenses,\n",
    "                                description\n",
    "                            )\n",
    "                            VALUES (\n",
    "                                '{0}',\n",
    "                                '{1}',\n",
    "                                '{2}',\n",
    "                                '{3}'\n",
    "                            );'''.format(\n",
    "                                         data[0], \n",
    "                                         data[1], \n",
    "                                         data[2], \n",
    "                                         data[3]\n",
    "                                        ))\n",
    "            conn.commit()\n",
    "            conn.close()\n",
    "            return self.MESSAGES['expense_added']\n",
    "        except: \n",
    "            return self.MESSAGES['error_expense_add']\n",
    "    \n",
    "    def account_link(self, linked_account, mode):\n",
    "        if mode == 'add':\n",
    "            try:\n",
    "                conn = sqlite3.connect('.\\data\\{}.db'.format(self.user_id))\n",
    "                c = conn.cursor()\n",
    "                c.execute('''INSERT INTO config (\n",
    "                                        parameter,\n",
    "                                        value\n",
    "                                    )\n",
    "                                    VALUES (\n",
    "                                        '{0}',\n",
    "                                        '{1}'\n",
    "                                    );'''.format(\n",
    "                                                 'linked_account', \n",
    "                                                 linked_account\n",
    "                                                ))\n",
    "                conn.commit()\n",
    "                conn.close()\n",
    "                return self.MESSAGES['account_link_add']\n",
    "            except: \n",
    "                return self.MESSAGES['account_link_error']\n",
    "        elif mode == 'delete':\n",
    "            try:\n",
    "                conn = sqlite3.connect('.\\data\\{}.db'.format(self.user_id))\n",
    "                c = conn.cursor()\n",
    "                c.execute('''DELETE FROM config \n",
    "                                    WHERE\n",
    "                                    parameter = '{0}' AND\n",
    "                                    value = '{1}'\n",
    "                                    ;'''.format(\n",
    "                                                 'linked_account', \n",
    "                                                 linked_account\n",
    "                                                ))\n",
    "                conn.commit()\n",
    "                conn.close()\n",
    "                return self.MESSAGES['account_link_delete']\n",
    "            except: \n",
    "                return self.MESSAGES['account_link_error']\n",
    "        else:\n",
    "            return self.MESSAGES['account_link_error']        \n",
    "        \n",
    "    def get_expense(self, modifers):\n",
    "        \n",
    "        linked_accounts = [self.user_id]\n",
    "        result = []\n",
    "        \n",
    "        # получение списка связанных аккаунтов\n",
    "        conn = sqlite3.connect('.\\data\\{}.db'.format(self.user_id))\n",
    "        c = conn.cursor()        \n",
    "        for row in c.execute('''SELECT DISTINCT value\n",
    "                                        FROM config\n",
    "                                        WHERE parameter = 'linked_account'  '''):\n",
    "            linked_accounts.append(str(row[0]))\n",
    "        conn.close()   \n",
    "        \n",
    "        # подготовка списка полей для группировки результатов\n",
    "        modifers_final = []\n",
    "        if type(modifers) == str:\n",
    "            modifers_final.append(self.MODIFER_FIELDS[modifers][0])\n",
    "        elif type(modifers) == list:\n",
    "            for modifer in modifers:\n",
    "                try:\n",
    "                    modifers_final.append(self.MODIFER_FIELDS[modifer][0])\n",
    "                except:\n",
    "                    modifers_final.append(None)\n",
    "        if len(modifers_final) == 0:\n",
    "            modifers_final = None           \n",
    "        \n",
    "        # Если нет запроса на связанные аккаунты, то берем только свой\n",
    "        if 'Аккаунт' not in modifers_final and 'Вместе' not in modifers_final:\n",
    "            linked_accounts = [self.user_id]\n",
    "            \n",
    "        # получение данных   \n",
    "        for account in linked_accounts:\n",
    "            conn = sqlite3.connect('.\\data\\{}.db'.format(account))\n",
    "            c = conn.cursor()\n",
    "            for row in c.execute('''SELECT date, category, expenses, description, '{}' as account\n",
    "                                            FROM finance\n",
    "                                            ORDER BY date DESC, category ASC, expenses DESC'''.format(account)):\n",
    "                date_data = str(row[0])\n",
    "                category_data = str(row[1])\n",
    "                expense_data = row[2]    \n",
    "                description_data = row[3]\n",
    "                account_data = row[4]\n",
    "                result.append([\n",
    "                                date_data,\n",
    "                                category_data,\n",
    "                                expense_data,\n",
    "                                description_data,\n",
    "                                account_data])\n",
    "        conn.close()\n",
    "        df = pd.DataFrame(result, columns=['Дата', 'Категория', 'Расходы', 'Описание', 'Аккаунт'])    \n",
    "       \n",
    "        # корректировка и вывод результатов        \n",
    "        if 'Вместе' in modifers_final:\n",
    "            modifers_final.remove('Вместе') \n",
    "            if 'Аккаунт' in modifers_final:\n",
    "                modifers_final.remove('Аккаунт')\n",
    "        if 'Все' in modifers_final or len(modifers_final) == 0:\n",
    "            df_string = df.to_string(index = False, justify = 'left')\n",
    "            df_string = re.sub('\\n\\s+', '\\n', df_string)\n",
    "        else:            \n",
    "            df = pd.pivot_table(df, values='Расходы', index = modifers_final,\n",
    "                        aggfunc=np.sum)\n",
    "            df_string = df.to_string()\n",
    "            \n",
    "                                \n",
    "        df_string_corrected = '`' + df_string + '`'\n",
    "        return df_string_corrected\n",
    "    \n",
    "    def cancel_expense(self):\n",
    "        try:\n",
    "            conn = sqlite3.connect('.\\data\\{}.db'.format(self.user_id))\n",
    "            c = conn.cursor()\n",
    "            c.execute('''DELETE FROM finance\n",
    "                         WHERE ID = (SELECT max(id)\n",
    "                                     FROM finance\n",
    "                                     );''')\n",
    "            conn.commit()\n",
    "            conn.close()        \n",
    "            return self.MESSAGES['cancel_complete']\n",
    "        except: \n",
    "            return self.MESSAGES['cancel_error']"
   ]
  },
  {
   "cell_type": "code",
   "execution_count": 14,
   "metadata": {},
   "outputs": [
    {
     "ename": "OperationalError",
     "evalue": "no such table: config",
     "output_type": "error",
     "traceback": [
      "\u001b[1;31m---------------------------------------------------------------------------\u001b[0m",
      "\u001b[1;31mOperationalError\u001b[0m                          Traceback (most recent call last)",
      "\u001b[1;32m<ipython-input-14-02b5ac1ea646>\u001b[0m in \u001b[0;36m<module>\u001b[1;34m\u001b[0m\n\u001b[1;32m----> 1\u001b[1;33m \u001b[0mprint\u001b[0m\u001b[1;33m(\u001b[0m\u001b[0mAccount\u001b[0m\u001b[1;33m(\u001b[0m\u001b[1;34m'test2'\u001b[0m\u001b[1;33m)\u001b[0m\u001b[1;33m.\u001b[0m\u001b[0mget_expense\u001b[0m\u001b[1;33m(\u001b[0m\u001b[1;33m[\u001b[0m\u001b[1;34m'get_together'\u001b[0m\u001b[1;33m]\u001b[0m\u001b[1;33m)\u001b[0m\u001b[1;33m)\u001b[0m\u001b[1;33m\u001b[0m\u001b[1;33m\u001b[0m\u001b[0m\n\u001b[0m",
      "\u001b[1;32m<ipython-input-13-0662441ff1f0>\u001b[0m in \u001b[0;36mget_expense\u001b[1;34m(self, modifers)\u001b[0m\n\u001b[0;32m    119\u001b[0m         for row in c.execute('''SELECT DISTINCT value\n\u001b[0;32m    120\u001b[0m                                         \u001b[0mFROM\u001b[0m \u001b[0mconfig\u001b[0m\u001b[1;33m\u001b[0m\u001b[1;33m\u001b[0m\u001b[0m\n\u001b[1;32m--> 121\u001b[1;33m                                         WHERE parameter = 'linked_account'  '''):\n\u001b[0m\u001b[0;32m    122\u001b[0m             \u001b[0mlinked_accounts\u001b[0m\u001b[1;33m.\u001b[0m\u001b[0mappend\u001b[0m\u001b[1;33m(\u001b[0m\u001b[0mstr\u001b[0m\u001b[1;33m(\u001b[0m\u001b[0mrow\u001b[0m\u001b[1;33m[\u001b[0m\u001b[1;36m0\u001b[0m\u001b[1;33m]\u001b[0m\u001b[1;33m)\u001b[0m\u001b[1;33m)\u001b[0m\u001b[1;33m\u001b[0m\u001b[1;33m\u001b[0m\u001b[0m\n\u001b[0;32m    123\u001b[0m         \u001b[0mconn\u001b[0m\u001b[1;33m.\u001b[0m\u001b[0mclose\u001b[0m\u001b[1;33m(\u001b[0m\u001b[1;33m)\u001b[0m\u001b[1;33m\u001b[0m\u001b[1;33m\u001b[0m\u001b[0m\n",
      "\u001b[1;31mOperationalError\u001b[0m: no such table: config"
     ]
    }
   ],
   "source": [
    "print(Account('test2').get_expense(['get_together']))"
   ]
  },
  {
   "cell_type": "code",
   "execution_count": null,
   "metadata": {},
   "outputs": [],
   "source": [
    "Account('test').get_expense(['get_together'])"
   ]
  },
  {
   "cell_type": "code",
   "execution_count": 29,
   "metadata": {},
   "outputs": [
    {
     "data": {
      "text/plain": [
       "'Запись добавлена.'"
      ]
     },
     "execution_count": 29,
     "metadata": {},
     "output_type": "execute_result"
    }
   ],
   "source": [
    "Account('test3').add_expense(['2020-10-10', '00', '1232999', '000', 'test'])"
   ]
  },
  {
   "cell_type": "code",
   "execution_count": 35,
   "metadata": {},
   "outputs": [
    {
     "name": "stdout",
     "output_type": "stream",
     "text": [
      "`Дата        Категория  Расходы   Описание Аккаунт\n",
      "2022-11-11  X3XX        1232999  000      test3 \n",
      "2022-11-11  X3XX        1232999  000      test3 \n",
      "2021-11-11  X3XX        1232999  000      test3 \n",
      "2020-11-11   XXX      123219999  000      test3 \n",
      "2020-10-11  X3XX        1232999  000      test3 `\n"
     ]
    }
   ],
   "source": [
    "print(Account('test3').get_expense(['get_all']))"
   ]
  },
  {
   "cell_type": "code",
   "execution_count": 34,
   "metadata": {},
   "outputs": [
    {
     "data": {
      "text/plain": [
       "'Последняя запись отменена.'"
      ]
     },
     "execution_count": 34,
     "metadata": {},
     "output_type": "execute_result"
    }
   ],
   "source": [
    "Account('test3').cancel_expense()"
   ]
  },
  {
   "cell_type": "code",
   "execution_count": null,
   "metadata": {},
   "outputs": [],
   "source": []
  }
 ],
 "metadata": {
  "kernelspec": {
   "display_name": "Python 3",
   "language": "python",
   "name": "python3"
  },
  "language_info": {
   "codemirror_mode": {
    "name": "ipython",
    "version": 3
   },
   "file_extension": ".py",
   "mimetype": "text/x-python",
   "name": "python",
   "nbconvert_exporter": "python",
   "pygments_lexer": "ipython3",
   "version": "3.7.5"
  }
 },
 "nbformat": 4,
 "nbformat_minor": 4
}
